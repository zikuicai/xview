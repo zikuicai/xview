{
 "cells": [
  {
   "cell_type": "markdown",
   "metadata": {},
   "source": [
    "[**x_view GAN**](https://github.com/kregmi/cross-view-image-synthesis)\n",
    "\n",
    "[**pix2pix_tf**](https://github.com/affinelayer/pix2pix-tensorflow)\n",
    "\n",
    "## pix2pix\n",
    "\n",
    "\n",
    "\n",
    "## X-fork\n",
    "\n",
    "\n",
    "\n",
    "## X-seq\n",
    "\n",
    "Train\n",
    "```bash\n",
    "python pix2pix.py \\\n",
    "  --mode train \\\n",
    "  --output_dir /media/zikui/Data/xview_data/dayton_seq_train \\\n",
    "  --max_epochs 35 \\\n",
    "  --input_dir /media/zikui/Data/xview_data/ABAsBs/train \\\n",
    "  \n",
    "or\n",
    "python pix2pix.py\n",
    "```  \n",
    "  \n",
    "Test\n",
    "```bash\n",
    "python pix2pix.py \\\n",
    "  --mode test \\\n",
    "  --output_dir /media/zikui/Data/xview_data/dayton_seq_test \\\n",
    "  --input_dir /media/zikui/Data/xview_data/ABAsBs/test \\\n",
    "```\n"
   ]
  },
  {
   "cell_type": "code",
   "execution_count": null,
   "metadata": {},
   "outputs": [],
   "source": []
  },
  {
   "cell_type": "code",
   "execution_count": null,
   "metadata": {},
   "outputs": [],
   "source": []
  },
  {
   "cell_type": "code",
   "execution_count": null,
   "metadata": {},
   "outputs": [],
   "source": []
  },
  {
   "cell_type": "code",
   "execution_count": null,
   "metadata": {},
   "outputs": [],
   "source": []
  },
  {
   "cell_type": "code",
   "execution_count": null,
   "metadata": {},
   "outputs": [],
   "source": []
  },
  {
   "cell_type": "code",
   "execution_count": null,
   "metadata": {},
   "outputs": [],
   "source": []
  },
  {
   "cell_type": "code",
   "execution_count": null,
   "metadata": {},
   "outputs": [],
   "source": []
  },
  {
   "cell_type": "code",
   "execution_count": null,
   "metadata": {},
   "outputs": [],
   "source": []
  },
  {
   "cell_type": "code",
   "execution_count": null,
   "metadata": {},
   "outputs": [],
   "source": []
  },
  {
   "cell_type": "code",
   "execution_count": null,
   "metadata": {},
   "outputs": [],
   "source": []
  },
  {
   "cell_type": "code",
   "execution_count": null,
   "metadata": {},
   "outputs": [],
   "source": []
  },
  {
   "cell_type": "code",
   "execution_count": null,
   "metadata": {},
   "outputs": [],
   "source": []
  },
  {
   "cell_type": "code",
   "execution_count": null,
   "metadata": {},
   "outputs": [],
   "source": []
  },
  {
   "cell_type": "code",
   "execution_count": null,
   "metadata": {},
   "outputs": [],
   "source": []
  },
  {
   "cell_type": "code",
   "execution_count": null,
   "metadata": {},
   "outputs": [],
   "source": []
  }
 ],
 "metadata": {
  "kernelspec": {
   "display_name": "Python 3",
   "language": "python",
   "name": "python3"
  },
  "language_info": {
   "codemirror_mode": {
    "name": "ipython",
    "version": 3
   },
   "file_extension": ".py",
   "mimetype": "text/x-python",
   "name": "python",
   "nbconvert_exporter": "python",
   "pygments_lexer": "ipython3",
   "version": "3.5.6"
  }
 },
 "nbformat": 4,
 "nbformat_minor": 2
}
